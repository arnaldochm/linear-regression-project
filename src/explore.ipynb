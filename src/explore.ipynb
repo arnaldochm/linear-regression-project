{
    "cells": [
        {
            "cell_type": "markdown",
            "metadata": {},
            "source": [
                "# Explore here"
            ]
        },
        {
            "cell_type": "code",
            "execution_count": 134,
            "metadata": {},
            "outputs": [],
            "source": [
                "# Import Libraries\n",
                "import pandas as pd\n",
                "import matplotlib.pyplot as plt\n",
                "import seaborn as sns\n",
                "# Machine learning -----------------------------------------------------\n",
                "from sklearn.linear_model import LinearRegression\n",
                "from sklearn.model_selection import train_test_split\n",
                "# Preprocessing --------------------------------------------------\n",
                "from sklearn.pipeline import Pipeline, make_pipeline\n",
                "from sklearn.preprocessing import StandardScaler\n",
                "from sklearn.preprocessing import OneHotEncoder\n",
                "from sklearn.compose import ColumnTransformer\n",
                "# Metrics --------------------------------------------------------------\n",
                "from sklearn.metrics import mean_squared_error, r2_score"
            ]
        },
        {
            "cell_type": "code",
            "execution_count": 135,
            "metadata": {},
            "outputs": [],
            "source": [
                "#Load Data and perform a quick check\n",
                "df_raw = pd.read_csv('https://raw.githubusercontent.com/4GeeksAcademy/linear-regression-project-tutorial/main/medical_insurance_cost.csv')\n",
                "\n",
                "df_raw.to_csv('../data/raw/data_raw.csv')"
            ]
        },
        {
            "cell_type": "code",
            "execution_count": 136,
            "metadata": {},
            "outputs": [
                {
                    "name": "stdout",
                    "output_type": "stream",
                    "text": [
                        "<class 'pandas.core.frame.DataFrame'>\n",
                        "RangeIndex: 1338 entries, 0 to 1337\n",
                        "Data columns (total 7 columns):\n",
                        " #   Column    Non-Null Count  Dtype  \n",
                        "---  ------    --------------  -----  \n",
                        " 0   age       1338 non-null   int64  \n",
                        " 1   sex       1338 non-null   object \n",
                        " 2   bmi       1338 non-null   float64\n",
                        " 3   children  1338 non-null   int64  \n",
                        " 4   smoker    1338 non-null   object \n",
                        " 5   region    1338 non-null   object \n",
                        " 6   charges   1338 non-null   float64\n",
                        "dtypes: float64(2), int64(2), object(3)\n",
                        "memory usage: 73.3+ KB\n"
                    ]
                }
            ],
            "source": [
                "df_raw.info()"
            ]
        },
        {
            "cell_type": "code",
            "execution_count": 137,
            "metadata": {},
            "outputs": [
                {
                    "data": {
                        "text/html": [
                            "<div>\n",
                            "<style scoped>\n",
                            "    .dataframe tbody tr th:only-of-type {\n",
                            "        vertical-align: middle;\n",
                            "    }\n",
                            "\n",
                            "    .dataframe tbody tr th {\n",
                            "        vertical-align: top;\n",
                            "    }\n",
                            "\n",
                            "    .dataframe thead th {\n",
                            "        text-align: right;\n",
                            "    }\n",
                            "</style>\n",
                            "<table border=\"1\" class=\"dataframe\">\n",
                            "  <thead>\n",
                            "    <tr style=\"text-align: right;\">\n",
                            "      <th></th>\n",
                            "      <th>age</th>\n",
                            "      <th>sex</th>\n",
                            "      <th>bmi</th>\n",
                            "      <th>children</th>\n",
                            "      <th>smoker</th>\n",
                            "      <th>region</th>\n",
                            "      <th>charges</th>\n",
                            "    </tr>\n",
                            "  </thead>\n",
                            "  <tbody>\n",
                            "    <tr>\n",
                            "      <th>643</th>\n",
                            "      <td>23</td>\n",
                            "      <td>female</td>\n",
                            "      <td>34.960</td>\n",
                            "      <td>3</td>\n",
                            "      <td>no</td>\n",
                            "      <td>northwest</td>\n",
                            "      <td>4466.62140</td>\n",
                            "    </tr>\n",
                            "    <tr>\n",
                            "      <th>406</th>\n",
                            "      <td>33</td>\n",
                            "      <td>female</td>\n",
                            "      <td>24.310</td>\n",
                            "      <td>0</td>\n",
                            "      <td>no</td>\n",
                            "      <td>southeast</td>\n",
                            "      <td>4185.09790</td>\n",
                            "    </tr>\n",
                            "    <tr>\n",
                            "      <th>165</th>\n",
                            "      <td>47</td>\n",
                            "      <td>male</td>\n",
                            "      <td>28.215</td>\n",
                            "      <td>4</td>\n",
                            "      <td>no</td>\n",
                            "      <td>northeast</td>\n",
                            "      <td>10407.08585</td>\n",
                            "    </tr>\n",
                            "    <tr>\n",
                            "      <th>500</th>\n",
                            "      <td>29</td>\n",
                            "      <td>male</td>\n",
                            "      <td>34.400</td>\n",
                            "      <td>0</td>\n",
                            "      <td>yes</td>\n",
                            "      <td>southwest</td>\n",
                            "      <td>36197.69900</td>\n",
                            "    </tr>\n",
                            "    <tr>\n",
                            "      <th>433</th>\n",
                            "      <td>60</td>\n",
                            "      <td>female</td>\n",
                            "      <td>30.500</td>\n",
                            "      <td>0</td>\n",
                            "      <td>no</td>\n",
                            "      <td>southwest</td>\n",
                            "      <td>12638.19500</td>\n",
                            "    </tr>\n",
                            "    <tr>\n",
                            "      <th>651</th>\n",
                            "      <td>53</td>\n",
                            "      <td>female</td>\n",
                            "      <td>39.600</td>\n",
                            "      <td>1</td>\n",
                            "      <td>no</td>\n",
                            "      <td>southeast</td>\n",
                            "      <td>10579.71100</td>\n",
                            "    </tr>\n",
                            "    <tr>\n",
                            "      <th>160</th>\n",
                            "      <td>42</td>\n",
                            "      <td>female</td>\n",
                            "      <td>26.600</td>\n",
                            "      <td>0</td>\n",
                            "      <td>yes</td>\n",
                            "      <td>northwest</td>\n",
                            "      <td>21348.70600</td>\n",
                            "    </tr>\n",
                            "    <tr>\n",
                            "      <th>880</th>\n",
                            "      <td>22</td>\n",
                            "      <td>male</td>\n",
                            "      <td>34.800</td>\n",
                            "      <td>3</td>\n",
                            "      <td>no</td>\n",
                            "      <td>southwest</td>\n",
                            "      <td>3443.06400</td>\n",
                            "    </tr>\n",
                            "    <tr>\n",
                            "      <th>1127</th>\n",
                            "      <td>35</td>\n",
                            "      <td>female</td>\n",
                            "      <td>35.860</td>\n",
                            "      <td>2</td>\n",
                            "      <td>no</td>\n",
                            "      <td>southeast</td>\n",
                            "      <td>5836.52040</td>\n",
                            "    </tr>\n",
                            "    <tr>\n",
                            "      <th>1164</th>\n",
                            "      <td>41</td>\n",
                            "      <td>female</td>\n",
                            "      <td>28.310</td>\n",
                            "      <td>1</td>\n",
                            "      <td>no</td>\n",
                            "      <td>northwest</td>\n",
                            "      <td>7153.55390</td>\n",
                            "    </tr>\n",
                            "  </tbody>\n",
                            "</table>\n",
                            "</div>"
                        ],
                        "text/plain": [
                            "      age     sex     bmi  children smoker     region      charges\n",
                            "643    23  female  34.960         3     no  northwest   4466.62140\n",
                            "406    33  female  24.310         0     no  southeast   4185.09790\n",
                            "165    47    male  28.215         4     no  northeast  10407.08585\n",
                            "500    29    male  34.400         0    yes  southwest  36197.69900\n",
                            "433    60  female  30.500         0     no  southwest  12638.19500\n",
                            "651    53  female  39.600         1     no  southeast  10579.71100\n",
                            "160    42  female  26.600         0    yes  northwest  21348.70600\n",
                            "880    22    male  34.800         3     no  southwest   3443.06400\n",
                            "1127   35  female  35.860         2     no  southeast   5836.52040\n",
                            "1164   41  female  28.310         1     no  northwest   7153.55390"
                        ]
                    },
                    "execution_count": 137,
                    "metadata": {},
                    "output_type": "execute_result"
                }
            ],
            "source": [
                "df_raw.sample(10)\n"
            ]
        },
        {
            "cell_type": "code",
            "execution_count": 138,
            "metadata": {},
            "outputs": [],
            "source": [
                "#Time to process the Data\n",
                "df_processed = df_raw.copy()"
            ]
        },
        {
            "cell_type": "code",
            "execution_count": 139,
            "metadata": {},
            "outputs": [
                {
                    "data": {
                        "text/plain": [
                            "sex\n",
                            "male      676\n",
                            "female    662\n",
                            "Name: count, dtype: int64"
                        ]
                    },
                    "execution_count": 139,
                    "metadata": {},
                    "output_type": "execute_result"
                }
            ],
            "source": [
                "df_processed['sex'].value_counts()"
            ]
        },
        {
            "cell_type": "code",
            "execution_count": 140,
            "metadata": {},
            "outputs": [
                {
                    "data": {
                        "text/plain": [
                            "smoker\n",
                            "no     1064\n",
                            "yes     274\n",
                            "Name: count, dtype: int64"
                        ]
                    },
                    "execution_count": 140,
                    "metadata": {},
                    "output_type": "execute_result"
                }
            ],
            "source": [
                "df_processed['smoker'].value_counts()"
            ]
        },
        {
            "cell_type": "code",
            "execution_count": 141,
            "metadata": {},
            "outputs": [],
            "source": [
                "df_processed['sex'] = df_processed['sex'].apply(lambda x: 1 if x == 'male' else 0)\n",
                "df_processed['smoker'] = df_processed['smoker'].apply(lambda x: 1 if x == 'yes' else 0)"
            ]
        },
        {
            "cell_type": "code",
            "execution_count": 142,
            "metadata": {},
            "outputs": [
                {
                    "data": {
                        "text/plain": [
                            "region\n",
                            "southeast    364\n",
                            "southwest    325\n",
                            "northwest    325\n",
                            "northeast    324\n",
                            "Name: count, dtype: int64"
                        ]
                    },
                    "execution_count": 142,
                    "metadata": {},
                    "output_type": "execute_result"
                }
            ],
            "source": [
                "df_processed['region'].value_counts()"
            ]
        },
        {
            "cell_type": "code",
            "execution_count": 143,
            "metadata": {},
            "outputs": [],
            "source": [
                "df_processed['region'] = pd.Categorical(df_raw['region'])\n",
                "\n",
                "df_processed.to_csv('../data/processed/data_processed.csv')\n",
                "\n",
                "df = df_processed.copy()"
            ]
        },
        {
            "cell_type": "code",
            "execution_count": 144,
            "metadata": {},
            "outputs": [],
            "source": [
                "#EDA\n",
                "\n",
                "X = df.copy().drop(['charges'],axis=1)\n",
                "\n",
                "y = df['charges'].copy()\n",
                "\n",
                "# 3.1. Create Train and Test subsets\n",
                "\n",
                "X_train, X_test, y_train, y_test = train_test_split(X, y, random_state=1400, test_size=0.2) #Stratify: stratificar entre yes y no de specialty\n",
                "\n",
                "df_train = pd.concat([X_train, y_train], axis=1)"
            ]
        },
        {
            "cell_type": "code",
            "execution_count": 145,
            "metadata": {},
            "outputs": [
                {
                    "name": "stdout",
                    "output_type": "stream",
                    "text": [
                        "<class 'pandas.core.frame.DataFrame'>\n",
                        "Index: 1070 entries, 796 to 1099\n",
                        "Data columns (total 7 columns):\n",
                        " #   Column    Non-Null Count  Dtype   \n",
                        "---  ------    --------------  -----   \n",
                        " 0   age       1070 non-null   int64   \n",
                        " 1   sex       1070 non-null   int64   \n",
                        " 2   bmi       1070 non-null   float64 \n",
                        " 3   children  1070 non-null   int64   \n",
                        " 4   smoker    1070 non-null   int64   \n",
                        " 5   region    1070 non-null   category\n",
                        " 6   charges   1070 non-null   float64 \n",
                        "dtypes: category(1), float64(2), int64(4)\n",
                        "memory usage: 59.8 KB\n"
                    ]
                }
            ],
            "source": [
                "df_train.info()"
            ]
        },
        {
            "cell_type": "code",
            "execution_count": 146,
            "metadata": {},
            "outputs": [
                {
                    "data": {
                        "text/html": [
                            "<div>\n",
                            "<style scoped>\n",
                            "    .dataframe tbody tr th:only-of-type {\n",
                            "        vertical-align: middle;\n",
                            "    }\n",
                            "\n",
                            "    .dataframe tbody tr th {\n",
                            "        vertical-align: top;\n",
                            "    }\n",
                            "\n",
                            "    .dataframe thead th {\n",
                            "        text-align: right;\n",
                            "    }\n",
                            "</style>\n",
                            "<table border=\"1\" class=\"dataframe\">\n",
                            "  <thead>\n",
                            "    <tr style=\"text-align: right;\">\n",
                            "      <th></th>\n",
                            "      <th>count</th>\n",
                            "      <th>unique</th>\n",
                            "      <th>top</th>\n",
                            "      <th>freq</th>\n",
                            "      <th>mean</th>\n",
                            "      <th>std</th>\n",
                            "      <th>min</th>\n",
                            "      <th>25%</th>\n",
                            "      <th>50%</th>\n",
                            "      <th>75%</th>\n",
                            "      <th>max</th>\n",
                            "    </tr>\n",
                            "  </thead>\n",
                            "  <tbody>\n",
                            "    <tr>\n",
                            "      <th>age</th>\n",
                            "      <td>1070.0</td>\n",
                            "      <td>NaN</td>\n",
                            "      <td>NaN</td>\n",
                            "      <td>NaN</td>\n",
                            "      <td>38.933645</td>\n",
                            "      <td>14.010162</td>\n",
                            "      <td>18.0</td>\n",
                            "      <td>26.0</td>\n",
                            "      <td>39.0</td>\n",
                            "      <td>51.0</td>\n",
                            "      <td>64.0</td>\n",
                            "    </tr>\n",
                            "    <tr>\n",
                            "      <th>sex</th>\n",
                            "      <td>1070.0</td>\n",
                            "      <td>NaN</td>\n",
                            "      <td>NaN</td>\n",
                            "      <td>NaN</td>\n",
                            "      <td>0.490654</td>\n",
                            "      <td>0.500146</td>\n",
                            "      <td>0.0</td>\n",
                            "      <td>0.0</td>\n",
                            "      <td>0.0</td>\n",
                            "      <td>1.0</td>\n",
                            "      <td>1.0</td>\n",
                            "    </tr>\n",
                            "    <tr>\n",
                            "      <th>bmi</th>\n",
                            "      <td>1070.0</td>\n",
                            "      <td>NaN</td>\n",
                            "      <td>NaN</td>\n",
                            "      <td>NaN</td>\n",
                            "      <td>30.524486</td>\n",
                            "      <td>6.086172</td>\n",
                            "      <td>15.96</td>\n",
                            "      <td>26.185</td>\n",
                            "      <td>30.25</td>\n",
                            "      <td>34.43</td>\n",
                            "      <td>53.13</td>\n",
                            "    </tr>\n",
                            "    <tr>\n",
                            "      <th>children</th>\n",
                            "      <td>1070.0</td>\n",
                            "      <td>NaN</td>\n",
                            "      <td>NaN</td>\n",
                            "      <td>NaN</td>\n",
                            "      <td>1.090654</td>\n",
                            "      <td>1.206548</td>\n",
                            "      <td>0.0</td>\n",
                            "      <td>0.0</td>\n",
                            "      <td>1.0</td>\n",
                            "      <td>2.0</td>\n",
                            "      <td>5.0</td>\n",
                            "    </tr>\n",
                            "    <tr>\n",
                            "      <th>smoker</th>\n",
                            "      <td>1070.0</td>\n",
                            "      <td>NaN</td>\n",
                            "      <td>NaN</td>\n",
                            "      <td>NaN</td>\n",
                            "      <td>0.201869</td>\n",
                            "      <td>0.401583</td>\n",
                            "      <td>0.0</td>\n",
                            "      <td>0.0</td>\n",
                            "      <td>0.0</td>\n",
                            "      <td>0.0</td>\n",
                            "      <td>1.0</td>\n",
                            "    </tr>\n",
                            "    <tr>\n",
                            "      <th>region</th>\n",
                            "      <td>1070</td>\n",
                            "      <td>4</td>\n",
                            "      <td>southeast</td>\n",
                            "      <td>297</td>\n",
                            "      <td>NaN</td>\n",
                            "      <td>NaN</td>\n",
                            "      <td>NaN</td>\n",
                            "      <td>NaN</td>\n",
                            "      <td>NaN</td>\n",
                            "      <td>NaN</td>\n",
                            "      <td>NaN</td>\n",
                            "    </tr>\n",
                            "    <tr>\n",
                            "      <th>charges</th>\n",
                            "      <td>1070.0</td>\n",
                            "      <td>NaN</td>\n",
                            "      <td>NaN</td>\n",
                            "      <td>NaN</td>\n",
                            "      <td>13119.297215</td>\n",
                            "      <td>12010.918337</td>\n",
                            "      <td>1131.5066</td>\n",
                            "      <td>4726.388412</td>\n",
                            "      <td>9208.12055</td>\n",
                            "      <td>16281.59625</td>\n",
                            "      <td>63770.42801</td>\n",
                            "    </tr>\n",
                            "  </tbody>\n",
                            "</table>\n",
                            "</div>"
                        ],
                        "text/plain": [
                            "           count unique        top freq          mean           std  \\\n",
                            "age       1070.0    NaN        NaN  NaN     38.933645     14.010162   \n",
                            "sex       1070.0    NaN        NaN  NaN      0.490654      0.500146   \n",
                            "bmi       1070.0    NaN        NaN  NaN     30.524486      6.086172   \n",
                            "children  1070.0    NaN        NaN  NaN      1.090654      1.206548   \n",
                            "smoker    1070.0    NaN        NaN  NaN      0.201869      0.401583   \n",
                            "region      1070      4  southeast  297           NaN           NaN   \n",
                            "charges   1070.0    NaN        NaN  NaN  13119.297215  12010.918337   \n",
                            "\n",
                            "                min          25%         50%          75%          max  \n",
                            "age            18.0         26.0        39.0         51.0         64.0  \n",
                            "sex             0.0          0.0         0.0          1.0          1.0  \n",
                            "bmi           15.96       26.185       30.25        34.43        53.13  \n",
                            "children        0.0          0.0         1.0          2.0          5.0  \n",
                            "smoker          0.0          0.0         0.0          0.0          1.0  \n",
                            "region          NaN          NaN         NaN          NaN          NaN  \n",
                            "charges   1131.5066  4726.388412  9208.12055  16281.59625  63770.42801  "
                        ]
                    },
                    "execution_count": 146,
                    "metadata": {},
                    "output_type": "execute_result"
                }
            ],
            "source": [
                "df_train.describe(include='all').T"
            ]
        },
        {
            "cell_type": "code",
            "execution_count": 147,
            "metadata": {},
            "outputs": [
                {
                    "data": {
                        "image/png": "[encoded data removed]",
                        "text/plain": [
                            "<Figure size 1000x1000 with 6 Axes>"
                        ]
                    },
                    "metadata": {},
                    "output_type": "display_data"
                }
            ],
            "source": [
                "df_train.hist(figsize=(10,10))\n",
                "plt.show()"
            ]
        },
        {
            "cell_type": "code",
            "execution_count": 148,
            "metadata": {},
            "outputs": [
                {
                    "name": "stderr",
                    "output_type": "stream",
                    "text": [
                        "/home/arnaldoch/Documents/Bootcamp_Data_Science/Tareas/linear-regression-project/.env/lib/python3.10/site-packages/seaborn/_oldcore.py:1498: FutureWarning: is_categorical_dtype is deprecated and will be removed in a future version. Use isinstance(dtype, CategoricalDtype) instead\n",
                        "  if pd.api.types.is_categorical_dtype(vector):\n",
                        "/home/arnaldoch/Documents/Bootcamp_Data_Science/Tareas/linear-regression-project/.env/lib/python3.10/site-packages/seaborn/categorical.py:641: FutureWarning: The default of observed=False is deprecated and will be changed to True in a future version of pandas. Pass observed=False to retain current behavior or observed=True to adopt the future default and silence this warning.\n",
                        "  grouped_vals = vals.groupby(grouper)\n"
                    ]
                },
                {
                    "data": {
                        "image/png": "[encoded data removed]",
                        "text/plain": [
                            "<Figure size 900x900 with 1 Axes>"
                        ]
                    },
                    "metadata": {},
                    "output_type": "display_data"
                }
            ],
            "source": [
                "#Analisis univariado de variables categoricas\n",
                "\n",
                "fig,ax = plt.subplots(1, 1, figsize = (9,9))\n",
                "\n",
                "sns.countplot(data=df_train, y='region')\n",
                "\n",
                "plt.show()"
            ]
        },
        {
            "cell_type": "code",
            "execution_count": 149,
            "metadata": {},
            "outputs": [
                {
                    "data": {
                        "text/html": [
                            "<style type=\"text/css\">\n",
                            "#T_39584_row0_col0, #T_39584_row1_col1, #T_39584_row2_col2, #T_39584_row3_col3, #T_39584_row4_col4, #T_39584_row5_col5 {\n",
                            "  background-color: #08306b;\n",
                            "  color: #f1f1f1;\n",
                            "}\n",
                            "#T_39584_row0_col1, #T_39584_row0_col4, #T_39584_row1_col0, #T_39584_row1_col5, #T_39584_row4_col2, #T_39584_row4_col3 {\n",
                            "  background-color: #f7fbff;\n",
                            "  color: #000000;\n",
                            "}\n",
                            "#T_39584_row0_col2 {\n",
                            "  background-color: #e3eef8;\n",
                            "  color: #000000;\n",
                            "}\n",
                            "#T_39584_row0_col3 {\n",
                            "  background-color: #eaf2fb;\n",
                            "  color: #000000;\n",
                            "}\n",
                            "#T_39584_row0_col5 {\n",
                            "  background-color: #c7dbef;\n",
                            "  color: #000000;\n",
                            "}\n",
                            "#T_39584_row1_col2, #T_39584_row3_col5 {\n",
                            "  background-color: #f2f8fd;\n",
                            "  color: #000000;\n",
                            "}\n",
                            "#T_39584_row1_col3, #T_39584_row2_col3, #T_39584_row3_col2 {\n",
                            "  background-color: #f5f9fe;\n",
                            "  color: #000000;\n",
                            "}\n",
                            "#T_39584_row1_col4 {\n",
                            "  background-color: #e2edf8;\n",
                            "  color: #000000;\n",
                            "}\n",
                            "#T_39584_row2_col0 {\n",
                            "  background-color: #dceaf6;\n",
                            "  color: #000000;\n",
                            "}\n",
                            "#T_39584_row2_col1 {\n",
                            "  background-color: #ebf3fb;\n",
                            "  color: #000000;\n",
                            "}\n",
                            "#T_39584_row2_col4, #T_39584_row3_col4 {\n",
                            "  background-color: #f2f7fd;\n",
                            "  color: #000000;\n",
                            "}\n",
                            "#T_39584_row2_col5 {\n",
                            "  background-color: #d8e7f5;\n",
                            "  color: #000000;\n",
                            "}\n",
                            "#T_39584_row3_col0 {\n",
                            "  background-color: #e4eff9;\n",
                            "  color: #000000;\n",
                            "}\n",
                            "#T_39584_row3_col1 {\n",
                            "  background-color: #eef5fc;\n",
                            "  color: #000000;\n",
                            "}\n",
                            "#T_39584_row4_col0 {\n",
                            "  background-color: #f6faff;\n",
                            "  color: #000000;\n",
                            "}\n",
                            "#T_39584_row4_col1 {\n",
                            "  background-color: #e1edf8;\n",
                            "  color: #000000;\n",
                            "}\n",
                            "#T_39584_row4_col5 {\n",
                            "  background-color: #1c6bb0;\n",
                            "  color: #f1f1f1;\n",
                            "}\n",
                            "#T_39584_row5_col0 {\n",
                            "  background-color: #b3d3e8;\n",
                            "  color: #000000;\n",
                            "}\n",
                            "#T_39584_row5_col1 {\n",
                            "  background-color: #e7f1fa;\n",
                            "  color: #000000;\n",
                            "}\n",
                            "#T_39584_row5_col2 {\n",
                            "  background-color: #d0e2f2;\n",
                            "  color: #000000;\n",
                            "}\n",
                            "#T_39584_row5_col3 {\n",
                            "  background-color: #e9f2fa;\n",
                            "  color: #000000;\n",
                            "}\n",
                            "#T_39584_row5_col4 {\n",
                            "  background-color: #1967ad;\n",
                            "  color: #f1f1f1;\n",
                            "}\n",
                            "</style>\n",
                            "<table id=\"T_39584\">\n",
                            "  <thead>\n",
                            "    <tr>\n",
                            "      <th class=\"blank level0\" >&nbsp;</th>\n",
                            "      <th id=\"T_39584_level0_col0\" class=\"col_heading level0 col0\" >age</th>\n",
                            "      <th id=\"T_39584_level0_col1\" class=\"col_heading level0 col1\" >sex</th>\n",
                            "      <th id=\"T_39584_level0_col2\" class=\"col_heading level0 col2\" >bmi</th>\n",
                            "      <th id=\"T_39584_level0_col3\" class=\"col_heading level0 col3\" >children</th>\n",
                            "      <th id=\"T_39584_level0_col4\" class=\"col_heading level0 col4\" >smoker</th>\n",
                            "      <th id=\"T_39584_level0_col5\" class=\"col_heading level0 col5\" >charges</th>\n",
                            "    </tr>\n",
                            "  </thead>\n",
                            "  <tbody>\n",
                            "    <tr>\n",
                            "      <th id=\"T_39584_level0_row0\" class=\"row_heading level0 row0\" >age</th>\n",
                            "      <td id=\"T_39584_row0_col0\" class=\"data row0 col0\" >1.000000</td>\n",
                            "      <td id=\"T_39584_row0_col1\" class=\"data row0 col1\" >-0.026321</td>\n",
                            "      <td id=\"T_39584_row0_col2\" class=\"data row0 col2\" >0.112425</td>\n",
                            "      <td id=\"T_39584_row0_col3\" class=\"data row0 col3\" >0.072795</td>\n",
                            "      <td id=\"T_39584_row0_col4\" class=\"data row0 col4\" >-0.022224</td>\n",
                            "      <td id=\"T_39584_row0_col5\" class=\"data row0 col5\" >0.290919</td>\n",
                            "    </tr>\n",
                            "    <tr>\n",
                            "      <th id=\"T_39584_level0_row1\" class=\"row_heading level0 row1\" >sex</th>\n",
                            "      <td id=\"T_39584_row1_col0\" class=\"data row1 col0\" >-0.026321</td>\n",
                            "      <td id=\"T_39584_row1_col1\" class=\"data row1 col1\" >1.000000</td>\n",
                            "      <td id=\"T_39584_row1_col2\" class=\"data row1 col2\" >0.034325</td>\n",
                            "      <td id=\"T_39584_row1_col3\" class=\"data row1 col3\" >0.019232</td>\n",
                            "      <td id=\"T_39584_row1_col4\" class=\"data row1 col4\" >0.088579</td>\n",
                            "      <td id=\"T_39584_row1_col5\" class=\"data row1 col5\" >0.055033</td>\n",
                            "    </tr>\n",
                            "    <tr>\n",
                            "      <th id=\"T_39584_level0_row2\" class=\"row_heading level0 row2\" >bmi</th>\n",
                            "      <td id=\"T_39584_row2_col0\" class=\"data row2 col0\" >0.112425</td>\n",
                            "      <td id=\"T_39584_row2_col1\" class=\"data row2 col1\" >0.034325</td>\n",
                            "      <td id=\"T_39584_row2_col2\" class=\"data row2 col2\" >1.000000</td>\n",
                            "      <td id=\"T_39584_row2_col3\" class=\"data row2 col3\" >0.021079</td>\n",
                            "      <td id=\"T_39584_row2_col4\" class=\"data row2 col4\" >0.009175</td>\n",
                            "      <td id=\"T_39584_row2_col5\" class=\"data row2 col5\" >0.203217</td>\n",
                            "    </tr>\n",
                            "    <tr>\n",
                            "      <th id=\"T_39584_level0_row3\" class=\"row_heading level0 row3\" >children</th>\n",
                            "      <td id=\"T_39584_row3_col0\" class=\"data row3 col0\" >0.072795</td>\n",
                            "      <td id=\"T_39584_row3_col1\" class=\"data row3 col1\" >0.019232</td>\n",
                            "      <td id=\"T_39584_row3_col2\" class=\"data row3 col2\" >0.021079</td>\n",
                            "      <td id=\"T_39584_row3_col3\" class=\"data row3 col3\" >1.000000</td>\n",
                            "      <td id=\"T_39584_row3_col4\" class=\"data row3 col4\" >0.006600</td>\n",
                            "      <td id=\"T_39584_row3_col5\" class=\"data row3 col5\" >0.079981</td>\n",
                            "    </tr>\n",
                            "    <tr>\n",
                            "      <th id=\"T_39584_level0_row4\" class=\"row_heading level0 row4\" >smoker</th>\n",
                            "      <td id=\"T_39584_row4_col0\" class=\"data row4 col0\" >-0.022224</td>\n",
                            "      <td id=\"T_39584_row4_col1\" class=\"data row4 col1\" >0.088579</td>\n",
                            "      <td id=\"T_39584_row4_col2\" class=\"data row4 col2\" >0.009175</td>\n",
                            "      <td id=\"T_39584_row4_col3\" class=\"data row4 col3\" >0.006600</td>\n",
                            "      <td id=\"T_39584_row4_col4\" class=\"data row4 col4\" >1.000000</td>\n",
                            "      <td id=\"T_39584_row4_col5\" class=\"data row4 col5\" >0.783597</td>\n",
                            "    </tr>\n",
                            "    <tr>\n",
                            "      <th id=\"T_39584_level0_row5\" class=\"row_heading level0 row5\" >charges</th>\n",
                            "      <td id=\"T_39584_row5_col0\" class=\"data row5 col0\" >0.290919</td>\n",
                            "      <td id=\"T_39584_row5_col1\" class=\"data row5 col1\" >0.055033</td>\n",
                            "      <td id=\"T_39584_row5_col2\" class=\"data row5 col2\" >0.203217</td>\n",
                            "      <td id=\"T_39584_row5_col3\" class=\"data row5 col3\" >0.079981</td>\n",
                            "      <td id=\"T_39584_row5_col4\" class=\"data row5 col4\" >0.783597</td>\n",
                            "      <td id=\"T_39584_row5_col5\" class=\"data row5 col5\" >1.000000</td>\n",
                            "    </tr>\n",
                            "  </tbody>\n",
                            "</table>\n"
                        ],
                        "text/plain": [
                            "<pandas.io.formats.style.Styler at 0x7f0f7c92f070>"
                        ]
                    },
                    "execution_count": 149,
                    "metadata": {},
                    "output_type": "execute_result"
                }
            ],
            "source": [
                "#Se evalua la correlacion. Es notable que smoker es una variable independiente muy correlacionada a la variable dependiente.\n",
                "df_train.select_dtypes('number').corr().style.background_gradient(cmap='Blues')\n",
                "\n",
                "#No se visualiza una correlacion importante entre las variables independientes. Por lo que puede usarse el Linear Regression."
            ]
        },
        {
            "cell_type": "code",
            "execution_count": 150,
            "metadata": {},
            "outputs": [],
            "source": [
                "# 4. Creacion del Modelo: Model Training and Prediction\n",
                "\n",
                "cat_cols = X_train.select_dtypes('category').columns #cat_cols variables categoricas\n",
                "num_cols = X_train.select_dtypes('number').columns   # num_cols variables numericas\n",
                "\n",
                "# 4.1. Create Pipeline\n",
                "\n",
                "cat_transformer = Pipeline(steps=[\n",
                "    ('onehot',OneHotEncoder(sparse=False)) #sparse son varias columnas, con false las comprime \n",
                "])\n",
                "#onehot convierte las variables categoricas a numeros.\n",
                "num_transformer = Pipeline(steps=[\n",
                "    ('scaler', StandardScaler())    # escala los datos a una media de cero y un rango unitario (desviación)\n",
                "])\n",
                "#StandardScaler se usa este escaler porque las variables son casi simetricas.\n",
                "\n",
                "preprocessor = ColumnTransformer(transformers=[\n",
                "    ('cat', cat_transformer, cat_cols),\n",
                "    ('num', num_transformer, num_cols)\n",
                "])\n"
            ]
        },
        {
            "cell_type": "code",
            "execution_count": 151,
            "metadata": {},
            "outputs": [],
            "source": [
                "#The Casifier is added to the pipeline\n",
                "linear_regression_model = Pipeline(steps=[\n",
                "    ('preprocessor', preprocessor),\n",
                "    ('model', LinearRegression())\n",
                "])"
            ]
        },
        {
            "cell_type": "code",
            "execution_count": 152,
            "metadata": {},
            "outputs": [
                {
                    "name": "stderr",
                    "output_type": "stream",
                    "text": [
                        "/home/arnaldoch/Documents/Bootcamp_Data_Science/Tareas/linear-regression-project/.env/lib/python3.10/site-packages/sklearn/preprocessing/_encoders.py:972: FutureWarning: `sparse` was renamed to `sparse_output` in version 1.2 and will be removed in 1.4. `sparse_output` is ignored unless you leave `sparse` to its default value.\n",
                        "  warnings.warn(\n"
                    ]
                },
                {
                    "data": {
                        "text/html": [
                            "<style>#sk-container-id-12 {color: black;}#sk-container-id-12 pre{padding: 0;}#sk-container-id-12 div.sk-toggleable {background-color: white;}#sk-container-id-12 label.sk-toggleable__label {cursor: pointer;display: block;width: 100%;margin-bottom: 0;padding: 0.3em;box-sizing: border-box;text-align: center;}#sk-container-id-12 label.sk-toggleable__label-arrow:before {content: \"▸\";float: left;margin-right: 0.25em;color: #696969;}#sk-container-id-12 label.sk-toggleable__label-arrow:hover:before {color: black;}#sk-container-id-12 div.sk-estimator:hover label.sk-toggleable__label-arrow:before {color: black;}#sk-container-id-12 div.sk-toggleable__content {max-height: 0;max-width: 0;overflow: hidden;text-align: left;background-color: #f0f8ff;}#sk-container-id-12 div.sk-toggleable__content pre {margin: 0.2em;color: black;border-radius: 0.25em;background-color: #f0f8ff;}#sk-container-id-12 input.sk-toggleable__control:checked~div.sk-toggleable__content {max-height: 200px;max-width: 100%;overflow: auto;}#sk-container-id-12 input.sk-toggleable__control:checked~label.sk-toggleable__label-arrow:before {content: \"▾\";}#sk-container-id-12 div.sk-estimator input.sk-toggleable__control:checked~label.sk-toggleable__label {background-color: #d4ebff;}#sk-container-id-12 div.sk-label input.sk-toggleable__control:checked~label.sk-toggleable__label {background-color: #d4ebff;}#sk-container-id-12 input.sk-hidden--visually {border: 0;clip: rect(1px 1px 1px 1px);clip: rect(1px, 1px, 1px, 1px);height: 1px;margin: -1px;overflow: hidden;padding: 0;position: absolute;width: 1px;}#sk-container-id-12 div.sk-estimator {font-family: monospace;background-color: #f0f8ff;border: 1px dotted black;border-radius: 0.25em;box-sizing: border-box;margin-bottom: 0.5em;}#sk-container-id-12 div.sk-estimator:hover {background-color: #d4ebff;}#sk-container-id-12 div.sk-parallel-item::after {content: \"\";width: 100%;border-bottom: 1px solid gray;flex-grow: 1;}#sk-container-id-12 div.sk-label:hover label.sk-toggleable__label {background-color: #d4ebff;}#sk-container-id-12 div.sk-serial::before {content: \"\";position: absolute;border-left: 1px solid gray;box-sizing: border-box;top: 0;bottom: 0;left: 50%;z-index: 0;}#sk-container-id-12 div.sk-serial {display: flex;flex-direction: column;align-items: center;background-color: white;padding-right: 0.2em;padding-left: 0.2em;position: relative;}#sk-container-id-12 div.sk-item {position: relative;z-index: 1;}#sk-container-id-12 div.sk-parallel {display: flex;align-items: stretch;justify-content: center;background-color: white;position: relative;}#sk-container-id-12 div.sk-item::before, #sk-container-id-12 div.sk-parallel-item::before {content: \"\";position: absolute;border-left: 1px solid gray;box-sizing: border-box;top: 0;bottom: 0;left: 50%;z-index: -1;}#sk-container-id-12 div.sk-parallel-item {display: flex;flex-direction: column;z-index: 1;position: relative;background-color: white;}#sk-container-id-12 div.sk-parallel-item:first-child::after {align-self: flex-end;width: 50%;}#sk-container-id-12 div.sk-parallel-item:last-child::after {align-self: flex-start;width: 50%;}#sk-container-id-12 div.sk-parallel-item:only-child::after {width: 0;}#sk-container-id-12 div.sk-dashed-wrapped {border: 1px dashed gray;margin: 0 0.4em 0.5em 0.4em;box-sizing: border-box;padding-bottom: 0.4em;background-color: white;}#sk-container-id-12 div.sk-label label {font-family: monospace;font-weight: bold;display: inline-block;line-height: 1.2em;}#sk-container-id-12 div.sk-label-container {text-align: center;}#sk-container-id-12 div.sk-container {/* jupyter's `normalize.less` sets `[hidden] { display: none; }` but bootstrap.min.css set `[hidden] { display: none !important; }` so we also need the `!important` here to be able to override the default hidden behavior on the sphinx rendered scikit-learn.org. See: https://github.com/scikit-learn/scikit-learn/issues/21755 */display: inline-block !important;position: relative;}#sk-container-id-12 div.sk-text-repr-fallback {display: none;}</style><div id=\"sk-container-id-12\" class=\"sk-top-container\"><div class=\"sk-text-repr-fallback\"><pre>Pipeline(steps=[(&#x27;preprocessor&#x27;,\n",
                            "                 ColumnTransformer(transformers=[(&#x27;cat&#x27;,\n",
                            "                                                  Pipeline(steps=[(&#x27;onehot&#x27;,\n",
                            "                                                                   OneHotEncoder(sparse=False))]),\n",
                            "                                                  Index([&#x27;region&#x27;], dtype=&#x27;object&#x27;)),\n",
                            "                                                 (&#x27;num&#x27;,\n",
                            "                                                  Pipeline(steps=[(&#x27;scaler&#x27;,\n",
                            "                                                                   StandardScaler())]),\n",
                            "                                                  Index([&#x27;age&#x27;, &#x27;sex&#x27;, &#x27;bmi&#x27;, &#x27;children&#x27;, &#x27;smoker&#x27;], dtype=&#x27;object&#x27;))])),\n",
                            "                (&#x27;model&#x27;, LinearRegression())])</pre><b>In a Jupyter environment, please rerun this cell to show the HTML representation or trust the notebook. <br />On GitHub, the HTML representation is unable to render, please try loading this page with nbviewer.org.</b></div><div class=\"sk-container\" hidden><div class=\"sk-item sk-dashed-wrapped\"><div class=\"sk-label-container\"><div class=\"sk-label sk-toggleable\"><input class=\"sk-toggleable__control sk-hidden--visually\" id=\"sk-estimator-id-69\" type=\"checkbox\" ><label for=\"sk-estimator-id-69\" class=\"sk-toggleable__label sk-toggleable__label-arrow\">Pipeline</label><div class=\"sk-toggleable__content\"><pre>Pipeline(steps=[(&#x27;preprocessor&#x27;,\n",
                            "                 ColumnTransformer(transformers=[(&#x27;cat&#x27;,\n",
                            "                                                  Pipeline(steps=[(&#x27;onehot&#x27;,\n",
                            "                                                                   OneHotEncoder(sparse=False))]),\n",
                            "                                                  Index([&#x27;region&#x27;], dtype=&#x27;object&#x27;)),\n",
                            "                                                 (&#x27;num&#x27;,\n",
                            "                                                  Pipeline(steps=[(&#x27;scaler&#x27;,\n",
                            "                                                                   StandardScaler())]),\n",
                            "                                                  Index([&#x27;age&#x27;, &#x27;sex&#x27;, &#x27;bmi&#x27;, &#x27;children&#x27;, &#x27;smoker&#x27;], dtype=&#x27;object&#x27;))])),\n",
                            "                (&#x27;model&#x27;, LinearRegression())])</pre></div></div></div><div class=\"sk-serial\"><div class=\"sk-item sk-dashed-wrapped\"><div class=\"sk-label-container\"><div class=\"sk-label sk-toggleable\"><input class=\"sk-toggleable__control sk-hidden--visually\" id=\"sk-estimator-id-70\" type=\"checkbox\" ><label for=\"sk-estimator-id-70\" class=\"sk-toggleable__label sk-toggleable__label-arrow\">preprocessor: ColumnTransformer</label><div class=\"sk-toggleable__content\"><pre>ColumnTransformer(transformers=[(&#x27;cat&#x27;,\n",
                            "                                 Pipeline(steps=[(&#x27;onehot&#x27;,\n",
                            "                                                  OneHotEncoder(sparse=False))]),\n",
                            "                                 Index([&#x27;region&#x27;], dtype=&#x27;object&#x27;)),\n",
                            "                                (&#x27;num&#x27;,\n",
                            "                                 Pipeline(steps=[(&#x27;scaler&#x27;, StandardScaler())]),\n",
                            "                                 Index([&#x27;age&#x27;, &#x27;sex&#x27;, &#x27;bmi&#x27;, &#x27;children&#x27;, &#x27;smoker&#x27;], dtype=&#x27;object&#x27;))])</pre></div></div></div><div class=\"sk-parallel\"><div class=\"sk-parallel-item\"><div class=\"sk-item\"><div class=\"sk-label-container\"><div class=\"sk-label sk-toggleable\"><input class=\"sk-toggleable__control sk-hidden--visually\" id=\"sk-estimator-id-71\" type=\"checkbox\" ><label for=\"sk-estimator-id-71\" class=\"sk-toggleable__label sk-toggleable__label-arrow\">cat</label><div class=\"sk-toggleable__content\"><pre>Index([&#x27;region&#x27;], dtype=&#x27;object&#x27;)</pre></div></div></div><div class=\"sk-serial\"><div class=\"sk-item\"><div class=\"sk-serial\"><div class=\"sk-item\"><div class=\"sk-estimator sk-toggleable\"><input class=\"sk-toggleable__control sk-hidden--visually\" id=\"sk-estimator-id-72\" type=\"checkbox\" ><label for=\"sk-estimator-id-72\" class=\"sk-toggleable__label sk-toggleable__label-arrow\">OneHotEncoder</label><div class=\"sk-toggleable__content\"><pre>OneHotEncoder(sparse=False)</pre></div></div></div></div></div></div></div></div><div class=\"sk-parallel-item\"><div class=\"sk-item\"><div class=\"sk-label-container\"><div class=\"sk-label sk-toggleable\"><input class=\"sk-toggleable__control sk-hidden--visually\" id=\"sk-estimator-id-73\" type=\"checkbox\" ><label for=\"sk-estimator-id-73\" class=\"sk-toggleable__label sk-toggleable__label-arrow\">num</label><div class=\"sk-toggleable__content\"><pre>Index([&#x27;age&#x27;, &#x27;sex&#x27;, &#x27;bmi&#x27;, &#x27;children&#x27;, &#x27;smoker&#x27;], dtype=&#x27;object&#x27;)</pre></div></div></div><div class=\"sk-serial\"><div class=\"sk-item\"><div class=\"sk-serial\"><div class=\"sk-item\"><div class=\"sk-estimator sk-toggleable\"><input class=\"sk-toggleable__control sk-hidden--visually\" id=\"sk-estimator-id-74\" type=\"checkbox\" ><label for=\"sk-estimator-id-74\" class=\"sk-toggleable__label sk-toggleable__label-arrow\">StandardScaler</label><div class=\"sk-toggleable__content\"><pre>StandardScaler()</pre></div></div></div></div></div></div></div></div></div></div><div class=\"sk-item\"><div class=\"sk-estimator sk-toggleable\"><input class=\"sk-toggleable__control sk-hidden--visually\" id=\"sk-estimator-id-75\" type=\"checkbox\" ><label for=\"sk-estimator-id-75\" class=\"sk-toggleable__label sk-toggleable__label-arrow\">LinearRegression</label><div class=\"sk-toggleable__content\"><pre>LinearRegression()</pre></div></div></div></div></div></div></div>"
                        ],
                        "text/plain": [
                            "Pipeline(steps=[('preprocessor',\n",
                            "                 ColumnTransformer(transformers=[('cat',\n",
                            "                                                  Pipeline(steps=[('onehot',\n",
                            "                                                                   OneHotEncoder(sparse=False))]),\n",
                            "                                                  Index(['region'], dtype='object')),\n",
                            "                                                 ('num',\n",
                            "                                                  Pipeline(steps=[('scaler',\n",
                            "                                                                   StandardScaler())]),\n",
                            "                                                  Index(['age', 'sex', 'bmi', 'children', 'smoker'], dtype='object'))])),\n",
                            "                ('model', LinearRegression())])"
                        ]
                    },
                    "execution_count": 152,
                    "metadata": {},
                    "output_type": "execute_result"
                }
            ],
            "source": [
                "#Model is fit to the Train Data\n",
                "linear_regression_model.fit(X_train,y_train)"
            ]
        },
        {
            "cell_type": "code",
            "execution_count": 153,
            "metadata": {},
            "outputs": [
                {
                    "name": "stdout",
                    "output_type": "stream",
                    "text": [
                        "Intercept (a): 13147.020362914045\n",
                        "Coefficients (b): [ 849.11017677   58.1249318  -554.75204274 -352.48306582 3413.40904912\n",
                        " -159.56487269 2075.35476857  599.62794675 9478.28840382]\n"
                    ]
                }
            ],
            "source": [
                "print(f\"Intercept (a): {linear_regression_model['model'].intercept_}\")\n",
                "print(f\"Coefficients (b): {linear_regression_model['model'].coef_}\")"
            ]
        },
        {
            "cell_type": "code",
            "execution_count": 154,
            "metadata": {},
            "outputs": [
                {
                    "data": {
                        "text/plain": [
                            "array([12653.73312229, 29723.93421542, 28038.31262482,  6710.19759019,\n",
                            "        5890.23886148, 10653.86388124, 29524.23027599, 39182.52215118,\n",
                            "        8582.08379565,  4808.11663339,  2236.43307411,  7445.98165341,\n",
                            "       14283.41190786,  3873.34535863,  8135.91963754, 12724.95570263,\n",
                            "       14084.84923544,  8873.35536985,  9154.95239047, 14652.70845457,\n",
                            "       11298.64079866,  7351.39211598, 13673.18395369,  5638.59032183,\n",
                            "       16940.76686024,   940.04583124, 11903.63241443, 28108.50842935,\n",
                            "       38760.02685365, 13774.35629391, 38580.52092334, 16224.21367895,\n",
                            "       13001.17352305, 34632.96920505, 27832.39258892,  7873.00968595,\n",
                            "       10481.40293185, 38687.66988337,  8864.53236538, 10903.80502558,\n",
                            "       30867.48952935, 13891.54365635, 11956.54044283,  2849.0240667 ,\n",
                            "        1883.616428  , 11072.74791099,  7279.02129035, 12900.04691376,\n",
                            "        3347.59319217, 12639.23181871,  8783.64933217,  9757.29856746,\n",
                            "       11772.06695981,  5638.12269603, 10709.62446126,  4862.27260366,\n",
                            "       33452.37256322,  8222.27037698, 11543.90743581, 30763.65571259,\n",
                            "        6791.66370124, 25991.76960293, 15145.52450995, 13601.25268139,\n",
                            "       14731.87329588,  3931.16468969,  9131.9359585 ,  9950.76593623,\n",
                            "       10471.32528762, 10855.86990554,  5644.56528209,  9038.04617577,\n",
                            "       25403.82910753, 12900.13045327, 12985.30301753,  1676.45641227,\n",
                            "       27477.70362957, 10728.77976282, 39269.69764134,  8693.147258  ,\n",
                            "       27076.34246834, 15853.22545736,  9665.15967024, 35599.47303198,\n",
                            "        6071.71027188, 14559.6939744 , 16519.66212403, 11238.43759364,\n",
                            "       12416.76825419, 12110.33040636, 27026.68570084, 16256.30826605,\n",
                            "        7982.32797081,  8207.10363959, 12363.59403792, 28260.7923445 ,\n",
                            "        3683.80361609,  1671.54510961, 14323.70034119, 37988.6863865 ,\n",
                            "        8391.37534095,  3659.61116004, 10465.40024838,  1298.47198981,\n",
                            "        6778.36437189, 10973.70909469,  -477.39028487, 10495.9932822 ,\n",
                            "        8732.32044453, 13801.52508275,  4250.82581963, 10749.92681902,\n",
                            "        2711.54571456, 11912.0521993 , 17618.00344981, 28997.11744033,\n",
                            "       36565.5648281 ,  9297.79380721, 11004.23606274, 36845.01286737,\n",
                            "        7054.52606257,  8335.77178977, 12219.24116881, 10751.75262985,\n",
                            "        7069.16539947,  7512.62146591,  8666.44401857,  5262.09805836,\n",
                            "        3143.82417757,  6277.46955955, 32152.81166596,  5508.37209267,\n",
                            "       34550.85004536,  8695.4873845 , 31860.21670312, 32393.8460693 ,\n",
                            "       40033.86300696,  5482.36105233, 32196.56556107,  6592.97237649,\n",
                            "        4488.54440151, 28815.4678047 ,  3800.30459177,  9188.06349154,\n",
                            "       11847.44087297, 10196.52240008,  6011.49666805, 34627.90215844,\n",
                            "        8286.2497677 , 33237.11943137,  9350.99547594, 34249.72939425,\n",
                            "       29587.20454721, 35139.41362722,  3127.0684704 , 11885.28231103,\n",
                            "       35278.94789677, 16675.90917131, 11379.81924507, 12031.25563062,\n",
                            "        3516.97536092, 16718.67386437,  6416.77281228,  3817.54278363,\n",
                            "       10390.31030086, 30787.52865154, 25678.26584954, 36847.5004244 ,\n",
                            "        6192.65642963, 26246.13574885,  9388.93093292,  7722.14090442,\n",
                            "        1920.93741173, 14954.55793545, 11501.44956024, 15483.96144127,\n",
                            "        3635.09800901, 14520.63468735, 11747.65971217, 14562.39140017,\n",
                            "       12969.86635633, 14687.83574191, 10839.45401336,  7533.91778968,\n",
                            "        7534.60625282,  5176.26789065,  7094.2024604 ,  2918.28268258,\n",
                            "       11912.23104264, 12568.59332072, 10223.39096521, 34145.15074691,\n",
                            "        9468.68109181, 12334.37920762,  3267.24839105, 11428.6245895 ,\n",
                            "       10076.58997891, 10954.36897412,  4319.04873107, 23514.62303006,\n",
                            "       14930.89140969, 14659.49207144, 26335.29047153,  4582.26260247,\n",
                            "       29289.14366085, 12933.83123579, 12491.30079362,  1327.95362608,\n",
                            "        9877.23098863, 15407.5195648 ,  7932.65556334,  3613.81768031,\n",
                            "        6077.18434118, 12951.8525452 , 13437.96868621, 11457.7823556 ,\n",
                            "        3871.58330186, 12483.63236248, 31013.67782799, 17949.90650758,\n",
                            "       37976.56993584,  9509.32577568,  4200.48551184, 11756.99249079,\n",
                            "        1749.81251653,  3759.16348742,  8993.6540909 ,  5672.82626886,\n",
                            "        6940.58598164,  7173.90623429, 39415.40629276, 33517.5594732 ,\n",
                            "       11589.49303506, 32004.40598655,   488.36331887, 12963.85253932,\n",
                            "        9256.34308485,  6852.88975676,  4731.11925183, 11366.32319268,\n",
                            "        6007.45367637,  5861.72674648, 10108.0229141 , 35882.01732563,\n",
                            "        6383.90708309,  8000.55245817,  7481.74671318, 29173.43993747,\n",
                            "       32100.1027788 , 11189.68978125, 10239.12506001,  5097.61006664,\n",
                            "        9214.55003637,  6621.10218981,  5005.29232609, 10301.83721548,\n",
                            "       25623.51893605,  8995.17050404, 10473.04211416, 27748.36379849,\n",
                            "        7542.03008178,  -570.87668793, 33673.54639165, 10484.47818687,\n",
                            "       10899.45275553,  7216.75112787, 14177.28645336, 36108.79177194])"
                        ]
                    },
                    "execution_count": 154,
                    "metadata": {},
                    "output_type": "execute_result"
                }
            ],
            "source": [
                "y_hat = linear_regression_model.predict(X_test)\n",
                "y_hat"
            ]
        },
        {
            "cell_type": "code",
            "execution_count": 155,
            "metadata": {},
            "outputs": [
                {
                    "name": "stdout",
                    "output_type": "stream",
                    "text": [
                        "Mean squared error: 33076558.8607\n",
                        "Coefficient of determination: 0.7876\n"
                    ]
                }
            ],
            "source": [
                "print(f\"Mean squared error: {mean_squared_error(y_test, y_hat):.4f}\")\n",
                "print(f\"Coefficient of determination: {r2_score(y_test, y_hat):.4f}\")"
            ]
        },
        {
            "cell_type": "code",
            "execution_count": 110,
            "metadata": {},
            "outputs": [],
            "source": [
                "#It is noticed that the R2 increses on 4% when including the Categorical Variable \"Region\" \n",
                "#to the Model preprocesing pipeline."
            ]
        }
    ],
    "metadata": {
        "kernelspec": {
            "display_name": "Python 3.8.13 64-bit ('3.8.13')",
            "language": "python",
            "name": "python3"
        },
        "language_info": {
            "codemirror_mode": {
                "name": "ipython",
                "version": 3
            },
            "file_extension": ".py",
            "mimetype": "text/x-python",
            "name": "python",
            "nbconvert_exporter": "python",
            "pygments_lexer": "ipython3",
            "version": "3.10.12"
        },
        "orig_nbformat": 4,
        "vscode": {
            "interpreter": {
                "hash": "110cc1dee26208153f2972f08a2ad52b6a56238dc66d48e87fb757ef2996db56"
            }
        }
    },
    "nbformat": 4,
    "nbformat_minor": 2
}
